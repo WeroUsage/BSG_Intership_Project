{
 "cells": [
  {
   "cell_type": "code",
   "execution_count": 1,
   "id": "ef20d09e-8c90-4429-9cf1-c2d27f74c440",
   "metadata": {
    "ExecuteTime": {
     "end_time": "2023-09-13T09:48:22.163195600Z",
     "start_time": "2023-09-13T09:48:22.156631300Z"
    }
   },
   "outputs": [],
   "source": [
    "import sys\n",
    "sys.path.append(\"..\")"
   ]
  },
  {
   "cell_type": "code",
   "execution_count": 2,
   "id": "74eec1b5-600a-45a9-9ba8-4c0d4fbf0f7e",
   "metadata": {
    "ExecuteTime": {
     "end_time": "2023-09-13T09:48:25.050563600Z",
     "start_time": "2023-09-13T09:48:23.969235400Z"
    }
   },
   "outputs": [],
   "source": [
    "from utils.db_connection import DBConnection\n",
    "from utils.db_query_utils import DBQuery"
   ]
  },
  {
   "cell_type": "code",
   "execution_count": 3,
   "id": "c869d0a0-04e8-4cd8-ba45-4fb1ff4beb1d",
   "metadata": {
    "ExecuteTime": {
     "end_time": "2023-09-13T09:48:25.679425500Z",
     "start_time": "2023-09-13T09:48:25.658141600Z"
    }
   },
   "outputs": [
    {
     "data": {
      "text/plain": "WindowsPath('C:/Users/a.tsereteli/Silknet_Cases/Case_11/notebooks/db.conf')"
     },
     "execution_count": 3,
     "metadata": {},
     "output_type": "execute_result"
    }
   ],
   "source": [
    "import os\n",
    "from pathlib import Path\n",
    "config_path =  Path(os.getcwd())\n",
    "config_path / \"db.conf\""
   ]
  },
  {
   "cell_type": "code",
   "execution_count": 4,
   "id": "0b9b8bbd-997b-4a8e-b28c-421759da1fa7",
   "metadata": {
    "ExecuteTime": {
     "end_time": "2023-09-13T09:48:26.494465500Z",
     "start_time": "2023-09-13T09:48:26.451836300Z"
    }
   },
   "outputs": [
    {
     "name": "stdout",
     "output_type": "stream",
     "text": [
      "{'host': '10.10.72.106', 'port': '1521', 'service': 'dwhn', 'user': 'DWH_COE', 'pass': 'Silk0908$Coe'}\n"
     ]
    }
   ],
   "source": [
    "# Specify the file path\n",
    "import json\n",
    "file_path = 'db.conf'\n",
    "\n",
    "# Use a with statement to open and read the file\n",
    "with open(file_path, 'r') as file:\n",
    "    config= json.load(file)\n",
    "\n",
    "# Print the file contents\n",
    "print(config)\n"
   ]
  },
  {
   "cell_type": "code",
   "execution_count": 5,
   "id": "6893a1ef-dc14-46fa-8613-77bd5b7d39ba",
   "metadata": {
    "ExecuteTime": {
     "end_time": "2023-09-13T09:48:31.511246900Z",
     "start_time": "2023-09-13T09:48:29.313097Z"
    }
   },
   "outputs": [],
   "source": [
    "db_handler = DBConnection(config_file = \"db.conf.sample\",root_folder=r\"C:\\Users\\a.tsereteli\\Silknet_Cases\\Case_11\")\n",
    "cursor = db_handler.get_cursor()"
   ]
  },
  {
   "cell_type": "code",
   "execution_count": 6,
   "id": "374eb5e1-8118-432d-ba42-4fd46fa00481",
   "metadata": {
    "ExecuteTime": {
     "end_time": "2023-09-13T09:48:31.527174400Z",
     "start_time": "2023-09-13T09:48:31.516230600Z"
    }
   },
   "outputs": [
    {
     "name": "stdout",
     "output_type": "stream",
     "text": [
      "['__bytes__', '__class__', '__class_getitem__', '__delattr__', '__dir__', '__doc__', '__enter__', '__eq__', '__exit__', '__format__', '__fspath__', '__ge__', '__getattribute__', '__gt__', '__hash__', '__init__', '__init_subclass__', '__le__', '__lt__', '__module__', '__ne__', '__new__', '__reduce__', '__reduce_ex__', '__repr__', '__rtruediv__', '__setattr__', '__sizeof__', '__slots__', '__str__', '__subclasshook__', '__truediv__', '_accessor', '_cached_cparts', '_cparts', '_drv', '_flavour', '_format_parsed_parts', '_from_parsed_parts', '_from_parts', '_hash', '_make_child', '_make_child_relpath', '_parse_args', '_parts', '_pparts', '_root', '_str', 'absolute', 'anchor', 'as_posix', 'as_uri', 'chmod', 'cwd', 'drive', 'exists', 'expanduser', 'glob', 'group', 'hardlink_to', 'home', 'is_absolute', 'is_block_device', 'is_char_device', 'is_dir', 'is_fifo', 'is_file', 'is_mount', 'is_relative_to', 'is_reserved', 'is_socket', 'is_symlink', 'iterdir', 'joinpath', 'lchmod', 'link_to', 'lstat', 'match', 'mkdir', 'name', 'open', 'owner', 'parent', 'parents', 'parts', 'read_bytes', 'read_text', 'readlink', 'relative_to', 'rename', 'replace', 'resolve', 'rglob', 'rmdir', 'root', 'samefile', 'stat', 'stem', 'suffix', 'suffixes', 'symlink_to', 'touch', 'unlink', 'with_name', 'with_stem', 'with_suffix', 'write_bytes', 'write_text']\n",
      "File not found: Case_11\\queries\\cb_segmentation.sql\n"
     ]
    }
   ],
   "source": [
    "import os\n",
    "from pathlib import Path\n",
    "\n",
    "# Specify the path to the SQL file relative to the root directory of your project\n",
    "file_path = Path(\"Case_11/queries/cb_segmentation.sql\")\n",
    "\n",
    "print(dir(file_path))\n",
    "\n",
    "try:\n",
    "    with open(file_path, \"r\") as f:\n",
    "        lines = f.readlines()\n",
    "    # Now, 'lines' contains the content of your SQL file as a list of lines\n",
    "    # You can print or manipulate the 'lines' variable as needed.\n",
    "except FileNotFoundError:\n",
    "    print(f\"File not found: {file_path}\")\n",
    "except Exception as e:\n",
    "    print(f\"An error occurred: {str(e)}\")"
   ]
  },
  {
   "cell_type": "code",
   "execution_count": 7,
   "outputs": [
    {
     "name": "stdout",
     "output_type": "stream",
     "text": [
      "C:\\Users\\a.tsereteli\\Silknet_Cases\\Case_11 C:\\Users\\a.tsereteli\\Silknet_Cases\\Case_11\\notebooks\n",
      "False\n",
      "C:\\Users\\a.tsereteli\\Silknet_Cases\\Case_11\\queries\\cb_segmentation.sql\n",
      "-- -- Table : Customer_Base Segmentation : Subscribers ,which doesnt refil in range of (0,91) days \n",
      "\n",
      "-- -- Variables:\n",
      "-- - ID \n",
      "-- - last_payement_date\n",
      "-- - last_charge_date\n",
      "\n",
      "\n",
      "\n",
      "\n",
      "SELECT SUBS_ID as ID, \n",
      "         MAX(TXN_DATE) AS last_payment_date,\n",
      "         SYSDATE - MAX(TXN_DATE) AS last_charge_date\n",
      "  FROM DWH_COE_DATA.TRAN_PAYMENTS\n",
      "  WHERE TXN_DATE >= SYSDATE - INTERVAL '3' MONTH\n",
      "    AND CATEGORY IN ('Private Person', 'Family')\n",
      "    AND BUSINESS = 'Mobile'\n",
      "    AND ACCT_CATEG = 'Pre-paid'\n",
      "  GROUP BY SUBS_ID\n"
     ]
    }
   ],
   "source": [
    "root = r\"C:\\Users\\a.tsereteli\\Silknet_Cases\\Case_11\"\n",
    "root1 = os.getcwd()\n",
    "print(root,root1)\n",
    "\n",
    "print(root.__eq__(root1))\n",
    "\n",
    "file_name = r\"cb_segmentation.sql\"\n",
    "base_folder = r\"queries\"\n",
    "\n",
    "folder_path = Path(root) / Path(base_folder) /file_name\n",
    "print(folder_path)\n",
    "\n",
    "with open(folder_path,\"r\") as f:\n",
    "    file=f.read()\n",
    "    print(file)"
   ],
   "metadata": {
    "collapsed": false,
    "ExecuteTime": {
     "end_time": "2023-09-13T09:48:33.442912500Z",
     "start_time": "2023-09-13T09:48:33.431944Z"
    }
   },
   "id": "b311f9b99bea346b"
  },
  {
   "cell_type": "code",
   "execution_count": 8,
   "id": "46752e82-f0a3-45ad-a3f8-b4aa39772373",
   "metadata": {
    "ExecuteTime": {
     "end_time": "2023-09-13T09:48:35.092908300Z",
     "start_time": "2023-09-13T09:48:35.082436900Z"
    }
   },
   "outputs": [],
   "source": [
    "test_query = DBQuery(file_name=\"cb_segmentation.sql\", cursor=cursor, by_steps=False, base_folder=\"queries\", root_folder=root)"
   ]
  },
  {
   "cell_type": "code",
   "execution_count": 10,
   "id": "b7788880-cb15-4253-9036-d6bd80c7df56",
   "metadata": {
    "ExecuteTime": {
     "end_time": "2023-09-13T09:50:57.265937Z",
     "start_time": "2023-09-13T09:50:57.249990700Z"
    }
   },
   "outputs": [
    {
     "name": "stdout",
     "output_type": "stream",
     "text": [
      "Using cached result...\n"
     ]
    }
   ],
   "source": [
    "res = test_query.run()"
   ]
  },
  {
   "cell_type": "code",
   "execution_count": 11,
   "outputs": [
    {
     "data": {
      "text/plain": "                ID   LAST_PAYMENT_DATE  LAST_CHARGE_DATE\n0       30873082.0 2023-09-11 13:23:20          2.017546\n1       29664232.0 2023-09-09 20:13:48          3.732500\n2       27885156.0 2023-08-31 08:32:29         13.219525\n3       24341096.0 2023-08-19 14:37:33         24.966007\n4       30035211.0 2023-09-09 12:28:53          4.055359\n...            ...                 ...               ...\n659839  24676147.0 2023-09-12 20:32:42          0.719375\n659840  25904724.0 2023-09-12 22:59:04          0.617731\n659841  25347319.0 2023-09-12 15:55:52          0.911620\n659842  28114666.0 2023-09-12 10:27:44          1.139491\n659843  24560153.0 2023-09-12 14:03:23          0.989734\n\n[659844 rows x 3 columns]",
      "text/html": "<div>\n<style scoped>\n    .dataframe tbody tr th:only-of-type {\n        vertical-align: middle;\n    }\n\n    .dataframe tbody tr th {\n        vertical-align: top;\n    }\n\n    .dataframe thead th {\n        text-align: right;\n    }\n</style>\n<table border=\"1\" class=\"dataframe\">\n  <thead>\n    <tr style=\"text-align: right;\">\n      <th></th>\n      <th>ID</th>\n      <th>LAST_PAYMENT_DATE</th>\n      <th>LAST_CHARGE_DATE</th>\n    </tr>\n  </thead>\n  <tbody>\n    <tr>\n      <th>0</th>\n      <td>30873082.0</td>\n      <td>2023-09-11 13:23:20</td>\n      <td>2.017546</td>\n    </tr>\n    <tr>\n      <th>1</th>\n      <td>29664232.0</td>\n      <td>2023-09-09 20:13:48</td>\n      <td>3.732500</td>\n    </tr>\n    <tr>\n      <th>2</th>\n      <td>27885156.0</td>\n      <td>2023-08-31 08:32:29</td>\n      <td>13.219525</td>\n    </tr>\n    <tr>\n      <th>3</th>\n      <td>24341096.0</td>\n      <td>2023-08-19 14:37:33</td>\n      <td>24.966007</td>\n    </tr>\n    <tr>\n      <th>4</th>\n      <td>30035211.0</td>\n      <td>2023-09-09 12:28:53</td>\n      <td>4.055359</td>\n    </tr>\n    <tr>\n      <th>...</th>\n      <td>...</td>\n      <td>...</td>\n      <td>...</td>\n    </tr>\n    <tr>\n      <th>659839</th>\n      <td>24676147.0</td>\n      <td>2023-09-12 20:32:42</td>\n      <td>0.719375</td>\n    </tr>\n    <tr>\n      <th>659840</th>\n      <td>25904724.0</td>\n      <td>2023-09-12 22:59:04</td>\n      <td>0.617731</td>\n    </tr>\n    <tr>\n      <th>659841</th>\n      <td>25347319.0</td>\n      <td>2023-09-12 15:55:52</td>\n      <td>0.911620</td>\n    </tr>\n    <tr>\n      <th>659842</th>\n      <td>28114666.0</td>\n      <td>2023-09-12 10:27:44</td>\n      <td>1.139491</td>\n    </tr>\n    <tr>\n      <th>659843</th>\n      <td>24560153.0</td>\n      <td>2023-09-12 14:03:23</td>\n      <td>0.989734</td>\n    </tr>\n  </tbody>\n</table>\n<p>659844 rows × 3 columns</p>\n</div>"
     },
     "execution_count": 11,
     "metadata": {},
     "output_type": "execute_result"
    }
   ],
   "source": [
    "res[0]"
   ],
   "metadata": {
    "collapsed": false,
    "ExecuteTime": {
     "end_time": "2023-09-13T09:51:05.124963200Z",
     "start_time": "2023-09-13T09:51:05.109298200Z"
    }
   },
   "id": "b56af5cfa47536a3"
  },
  {
   "cell_type": "code",
   "execution_count": null,
   "outputs": [],
   "source": [],
   "metadata": {
    "collapsed": false
   },
   "id": "ecf82efe92eef17f"
  }
 ],
 "metadata": {
  "kernelspec": {
   "display_name": "Python 3 (ipykernel)",
   "language": "python",
   "name": "python3"
  },
  "language_info": {
   "codemirror_mode": {
    "name": "ipython",
    "version": 3
   },
   "file_extension": ".py",
   "mimetype": "text/x-python",
   "name": "python",
   "nbconvert_exporter": "python",
   "pygments_lexer": "ipython3",
   "version": "3.10.12"
  }
 },
 "nbformat": 4,
 "nbformat_minor": 5
}
