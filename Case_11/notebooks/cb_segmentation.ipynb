{
 "cells": [
  {
   "cell_type": "code",
   "execution_count": 1,
   "id": "initial_id",
   "metadata": {
    "collapsed": true,
    "ExecuteTime": {
     "end_time": "2023-09-13T11:10:32.122982500Z",
     "start_time": "2023-09-13T11:10:32.109069400Z"
    }
   },
   "outputs": [],
   "source": [
    "import sys\n",
    "sys.path.append(\"..\")"
   ]
  },
  {
   "cell_type": "code",
   "execution_count": 2,
   "outputs": [],
   "source": [
    "from utils.db_connection import DBConnection\n",
    "from utils.db_query_utils import DBQuery"
   ],
   "metadata": {
    "collapsed": false,
    "ExecuteTime": {
     "end_time": "2023-09-13T11:10:33.755376600Z",
     "start_time": "2023-09-13T11:10:33.155518800Z"
    }
   },
   "id": "fd9db02e02b896d2"
  },
  {
   "cell_type": "code",
   "execution_count": 3,
   "outputs": [
    {
     "data": {
      "text/plain": "WindowsPath('C:/Users/a.tsereteli/Silknet_Cases/Case_11/notebooks/db.conf')"
     },
     "execution_count": 3,
     "metadata": {},
     "output_type": "execute_result"
    }
   ],
   "source": [
    "import os\n",
    "from pathlib import Path\n",
    "config_path =  Path(os.getcwd())\n",
    "config_path / \"db.conf\""
   ],
   "metadata": {
    "collapsed": false,
    "ExecuteTime": {
     "end_time": "2023-09-13T11:10:34.300387200Z",
     "start_time": "2023-09-13T11:10:34.283443800Z"
    }
   },
   "id": "d43a5480128a454b"
  },
  {
   "cell_type": "code",
   "execution_count": 4,
   "outputs": [],
   "source": [
    "db_handler = DBConnection(config_file = \"db.conf.sample\",root_folder=r\"C:\\Users\\a.tsereteli\\Silknet_Cases\\Case_11\")\n",
    "cursor = db_handler.get_cursor()"
   ],
   "metadata": {
    "collapsed": false,
    "ExecuteTime": {
     "end_time": "2023-09-13T11:10:35.417362Z",
     "start_time": "2023-09-13T11:10:35.205179Z"
    }
   },
   "id": "28cf9d78bc5ae04e"
  },
  {
   "cell_type": "markdown",
   "source": [],
   "metadata": {
    "collapsed": false
   },
   "id": "63b61a15cddc385b"
  },
  {
   "cell_type": "code",
   "execution_count": 7,
   "outputs": [],
   "source": [
    "root = r\"C:\\Users\\a.tsereteli\\Silknet_Cases\\Case_11\"\n",
    "test_query = DBQuery(file_name=\"cb_segmentation_with_variables.sql\", cursor=cursor, by_steps=False, base_folder=\"queries\", root_folder=root)"
   ],
   "metadata": {
    "collapsed": false,
    "ExecuteTime": {
     "end_time": "2023-09-13T11:11:59.038792500Z",
     "start_time": "2023-09-13T11:11:59.020709600Z"
    }
   },
   "id": "61fd572fab68987c"
  },
  {
   "cell_type": "code",
   "execution_count": 8,
   "outputs": [],
   "source": [
    "res = test_query.run()"
   ],
   "metadata": {
    "collapsed": false,
    "ExecuteTime": {
     "end_time": "2023-09-13T11:21:36.942531500Z",
     "start_time": "2023-09-13T11:11:59.946259700Z"
    }
   },
   "id": "2838f2bb573fc35d"
  },
  {
   "cell_type": "code",
   "execution_count": 10,
   "outputs": [],
   "source": [
    "df = res[0]\n"
   ],
   "metadata": {
    "collapsed": false,
    "ExecuteTime": {
     "end_time": "2023-09-13T11:28:12.097937100Z",
     "start_time": "2023-09-13T11:28:12.077492400Z"
    }
   },
   "id": "aab20f1644819407"
  },
  {
   "cell_type": "code",
   "execution_count": 32,
   "outputs": [
    {
     "data": {
      "text/plain": "           SUBS_ID  LAST_CHARGE  TOTAL_CHARGE  SUBSCRIBER_ID SUBS_FIRST_ACTIVATION_DATE YEAR_OF_BIRTH  GENDER DEVICE_TYPE_LATEST  SUBS_TOTAL_LIFETIME_CHARGE     SUBS_ID LOC_REGION_NAME LOC_DISTRICT_NAME       LOC_STREET  DEVICE_TYPE DEVICE_BRAND       DEVICE_MODEL LAST_CHARGE_stratify TOTAL_CHARGE_stratify SUBS_FIRST_ACTIVATION_DATE_stratify SUBS_TOTAL_LIFETIME_CHARGE_stratify\n0          59640.0     3.031933    308.758168        59640.0        2000-09-21 09:42:33          1960  Female            Phablet                 1812.466156     59640.0           აჭარა            ბათუმი       BATUMI_VOX      Phablet        Apple  iPhone 13 PRO MAX        (2.82, 3.105]     (307.601, 343.49]                 2000-09-21 09:42:33                (1716.12, 17914.939]\n1          52010.0     7.483900     29.361490        52010.0        2000-06-13 11:57:35          1972    Male            Phablet                  259.950320     52010.0         თბილისი     ისანი-სამგორი   TSKALK_VAZISUB      Phablet       Xiaomi           Redmi 8A       (7.101, 7.878]      (29.168, 32.517]                 2000-06-13 11:57:35                   (152.288, 267.47]\n2         216281.0    55.203912     51.806931       216281.0        2005-01-24 12:14:12          1973    Male            Phablet                  422.013433    216281.0         თბილისი    ვაკე-საბურთალო      DIDI_DIGOMI      Phablet       Realme               C21Y      (54.79, 64.124]       (51.005, 53.16]                 2005-01-24 12:14:12                   (385.15, 488.536]\n3         716636.0    19.130451     47.584191       716636.0        2011-07-18 18:01:47          1979    Male            Phablet                  257.627217    716636.0         თბილისი    ვაკე-საბურთალო  VIL_DIGOMI_SILK      Phablet      Samsung         Galaxy A12     (18.754, 20.017]      (45.893, 49.178]                 2011-07-18 18:01:47                   (152.288, 267.47]\n4         542352.0    12.111736     88.695005       542352.0        2010-06-21 18:25:16          1960  Female            Phablet                 1062.684200    542352.0    ქვემო ქართლი           რუსთავი    RUSTAVI_HOTEL      Phablet      Samsung         Galaxy A01     (11.929, 12.722]      (87.335, 93.058]                 2010-06-21 18:25:16                  (933.541, 1250.42]\n...            ...          ...           ...            ...                        ...           ...     ...                ...                         ...         ...             ...               ...              ...          ...          ...                ...                  ...                   ...                                 ...                                 ...\n659808  24571505.0     1.314398     72.459495     24571505.0        2002-03-19 07:00:00          1949    Male        Basic Phone                  410.529673  24571505.0           აჭარა            ბათუმი  SCHOOL_EURO2000  Basic Phone        Nokia               1202       (1.233, 1.822]       (69.66, 73.481]                 2002-03-19 07:00:00                   (385.15, 488.536]\n659809  24451955.0    25.089259    155.960000     24451955.0        2010-05-11 22:29:09          1953  Female         Smartphone                  809.157084  24451955.0          კახეთი           ყვარელი          KVARELI   Smartphone        Apple           iPhone 6     (24.182, 26.196]    (154.303, 163.818]                 2010-05-11 22:29:09                   (728.57, 933.541]\n659810  24492479.0    34.864699      1.727867     24492479.0        2007-11-17 18:59:32          1900    None            Phablet                   74.572901  24492479.0         თბილისი    ვაკე-საბურთალო   SABURTALO_HILL      Phablet       Huawei               Y5 2      (32.08, 35.992]   (-0.0009023, 1.996]                 2007-11-17 18:59:32                   (-0.001, 152.288]\n659811  24500080.0     4.129711     50.408813     24500080.0        2009-01-22 15:28:33          1979    None            Phablet                  433.038665  24500080.0         თბილისი     ისანი-სამგორი  VARK_KHOMLEL_ST      Phablet       Xiaomi           Redmi 9A       (4.098, 4.617]      (49.178, 51.005]                 2009-01-22 15:28:33                   (385.15, 488.536]\n659812         NaN     0.173519           NaN            NaN                        NaT          None    None               None                         NaN         NaN            None              None             None         None         None               None       (0.131, 0.259]                   nan                                 NaT                                 nan\n\n[659813 rows x 20 columns]",
      "text/html": "<div>\n<style scoped>\n    .dataframe tbody tr th:only-of-type {\n        vertical-align: middle;\n    }\n\n    .dataframe tbody tr th {\n        vertical-align: top;\n    }\n\n    .dataframe thead th {\n        text-align: right;\n    }\n</style>\n<table border=\"1\" class=\"dataframe\">\n  <thead>\n    <tr style=\"text-align: right;\">\n      <th></th>\n      <th>SUBS_ID</th>\n      <th>LAST_CHARGE</th>\n      <th>TOTAL_CHARGE</th>\n      <th>SUBSCRIBER_ID</th>\n      <th>SUBS_FIRST_ACTIVATION_DATE</th>\n      <th>YEAR_OF_BIRTH</th>\n      <th>GENDER</th>\n      <th>DEVICE_TYPE_LATEST</th>\n      <th>SUBS_TOTAL_LIFETIME_CHARGE</th>\n      <th>SUBS_ID</th>\n      <th>LOC_REGION_NAME</th>\n      <th>LOC_DISTRICT_NAME</th>\n      <th>LOC_STREET</th>\n      <th>DEVICE_TYPE</th>\n      <th>DEVICE_BRAND</th>\n      <th>DEVICE_MODEL</th>\n      <th>LAST_CHARGE_stratify</th>\n      <th>TOTAL_CHARGE_stratify</th>\n      <th>SUBS_FIRST_ACTIVATION_DATE_stratify</th>\n      <th>SUBS_TOTAL_LIFETIME_CHARGE_stratify</th>\n    </tr>\n  </thead>\n  <tbody>\n    <tr>\n      <th>0</th>\n      <td>59640.0</td>\n      <td>3.031933</td>\n      <td>308.758168</td>\n      <td>59640.0</td>\n      <td>2000-09-21 09:42:33</td>\n      <td>1960</td>\n      <td>Female</td>\n      <td>Phablet</td>\n      <td>1812.466156</td>\n      <td>59640.0</td>\n      <td>აჭარა</td>\n      <td>ბათუმი</td>\n      <td>BATUMI_VOX</td>\n      <td>Phablet</td>\n      <td>Apple</td>\n      <td>iPhone 13 PRO MAX</td>\n      <td>(2.82, 3.105]</td>\n      <td>(307.601, 343.49]</td>\n      <td>2000-09-21 09:42:33</td>\n      <td>(1716.12, 17914.939]</td>\n    </tr>\n    <tr>\n      <th>1</th>\n      <td>52010.0</td>\n      <td>7.483900</td>\n      <td>29.361490</td>\n      <td>52010.0</td>\n      <td>2000-06-13 11:57:35</td>\n      <td>1972</td>\n      <td>Male</td>\n      <td>Phablet</td>\n      <td>259.950320</td>\n      <td>52010.0</td>\n      <td>თბილისი</td>\n      <td>ისანი-სამგორი</td>\n      <td>TSKALK_VAZISUB</td>\n      <td>Phablet</td>\n      <td>Xiaomi</td>\n      <td>Redmi 8A</td>\n      <td>(7.101, 7.878]</td>\n      <td>(29.168, 32.517]</td>\n      <td>2000-06-13 11:57:35</td>\n      <td>(152.288, 267.47]</td>\n    </tr>\n    <tr>\n      <th>2</th>\n      <td>216281.0</td>\n      <td>55.203912</td>\n      <td>51.806931</td>\n      <td>216281.0</td>\n      <td>2005-01-24 12:14:12</td>\n      <td>1973</td>\n      <td>Male</td>\n      <td>Phablet</td>\n      <td>422.013433</td>\n      <td>216281.0</td>\n      <td>თბილისი</td>\n      <td>ვაკე-საბურთალო</td>\n      <td>DIDI_DIGOMI</td>\n      <td>Phablet</td>\n      <td>Realme</td>\n      <td>C21Y</td>\n      <td>(54.79, 64.124]</td>\n      <td>(51.005, 53.16]</td>\n      <td>2005-01-24 12:14:12</td>\n      <td>(385.15, 488.536]</td>\n    </tr>\n    <tr>\n      <th>3</th>\n      <td>716636.0</td>\n      <td>19.130451</td>\n      <td>47.584191</td>\n      <td>716636.0</td>\n      <td>2011-07-18 18:01:47</td>\n      <td>1979</td>\n      <td>Male</td>\n      <td>Phablet</td>\n      <td>257.627217</td>\n      <td>716636.0</td>\n      <td>თბილისი</td>\n      <td>ვაკე-საბურთალო</td>\n      <td>VIL_DIGOMI_SILK</td>\n      <td>Phablet</td>\n      <td>Samsung</td>\n      <td>Galaxy A12</td>\n      <td>(18.754, 20.017]</td>\n      <td>(45.893, 49.178]</td>\n      <td>2011-07-18 18:01:47</td>\n      <td>(152.288, 267.47]</td>\n    </tr>\n    <tr>\n      <th>4</th>\n      <td>542352.0</td>\n      <td>12.111736</td>\n      <td>88.695005</td>\n      <td>542352.0</td>\n      <td>2010-06-21 18:25:16</td>\n      <td>1960</td>\n      <td>Female</td>\n      <td>Phablet</td>\n      <td>1062.684200</td>\n      <td>542352.0</td>\n      <td>ქვემო ქართლი</td>\n      <td>რუსთავი</td>\n      <td>RUSTAVI_HOTEL</td>\n      <td>Phablet</td>\n      <td>Samsung</td>\n      <td>Galaxy A01</td>\n      <td>(11.929, 12.722]</td>\n      <td>(87.335, 93.058]</td>\n      <td>2010-06-21 18:25:16</td>\n      <td>(933.541, 1250.42]</td>\n    </tr>\n    <tr>\n      <th>...</th>\n      <td>...</td>\n      <td>...</td>\n      <td>...</td>\n      <td>...</td>\n      <td>...</td>\n      <td>...</td>\n      <td>...</td>\n      <td>...</td>\n      <td>...</td>\n      <td>...</td>\n      <td>...</td>\n      <td>...</td>\n      <td>...</td>\n      <td>...</td>\n      <td>...</td>\n      <td>...</td>\n      <td>...</td>\n      <td>...</td>\n      <td>...</td>\n      <td>...</td>\n    </tr>\n    <tr>\n      <th>659808</th>\n      <td>24571505.0</td>\n      <td>1.314398</td>\n      <td>72.459495</td>\n      <td>24571505.0</td>\n      <td>2002-03-19 07:00:00</td>\n      <td>1949</td>\n      <td>Male</td>\n      <td>Basic Phone</td>\n      <td>410.529673</td>\n      <td>24571505.0</td>\n      <td>აჭარა</td>\n      <td>ბათუმი</td>\n      <td>SCHOOL_EURO2000</td>\n      <td>Basic Phone</td>\n      <td>Nokia</td>\n      <td>1202</td>\n      <td>(1.233, 1.822]</td>\n      <td>(69.66, 73.481]</td>\n      <td>2002-03-19 07:00:00</td>\n      <td>(385.15, 488.536]</td>\n    </tr>\n    <tr>\n      <th>659809</th>\n      <td>24451955.0</td>\n      <td>25.089259</td>\n      <td>155.960000</td>\n      <td>24451955.0</td>\n      <td>2010-05-11 22:29:09</td>\n      <td>1953</td>\n      <td>Female</td>\n      <td>Smartphone</td>\n      <td>809.157084</td>\n      <td>24451955.0</td>\n      <td>კახეთი</td>\n      <td>ყვარელი</td>\n      <td>KVARELI</td>\n      <td>Smartphone</td>\n      <td>Apple</td>\n      <td>iPhone 6</td>\n      <td>(24.182, 26.196]</td>\n      <td>(154.303, 163.818]</td>\n      <td>2010-05-11 22:29:09</td>\n      <td>(728.57, 933.541]</td>\n    </tr>\n    <tr>\n      <th>659810</th>\n      <td>24492479.0</td>\n      <td>34.864699</td>\n      <td>1.727867</td>\n      <td>24492479.0</td>\n      <td>2007-11-17 18:59:32</td>\n      <td>1900</td>\n      <td>None</td>\n      <td>Phablet</td>\n      <td>74.572901</td>\n      <td>24492479.0</td>\n      <td>თბილისი</td>\n      <td>ვაკე-საბურთალო</td>\n      <td>SABURTALO_HILL</td>\n      <td>Phablet</td>\n      <td>Huawei</td>\n      <td>Y5 2</td>\n      <td>(32.08, 35.992]</td>\n      <td>(-0.0009023, 1.996]</td>\n      <td>2007-11-17 18:59:32</td>\n      <td>(-0.001, 152.288]</td>\n    </tr>\n    <tr>\n      <th>659811</th>\n      <td>24500080.0</td>\n      <td>4.129711</td>\n      <td>50.408813</td>\n      <td>24500080.0</td>\n      <td>2009-01-22 15:28:33</td>\n      <td>1979</td>\n      <td>None</td>\n      <td>Phablet</td>\n      <td>433.038665</td>\n      <td>24500080.0</td>\n      <td>თბილისი</td>\n      <td>ისანი-სამგორი</td>\n      <td>VARK_KHOMLEL_ST</td>\n      <td>Phablet</td>\n      <td>Xiaomi</td>\n      <td>Redmi 9A</td>\n      <td>(4.098, 4.617]</td>\n      <td>(49.178, 51.005]</td>\n      <td>2009-01-22 15:28:33</td>\n      <td>(385.15, 488.536]</td>\n    </tr>\n    <tr>\n      <th>659812</th>\n      <td>NaN</td>\n      <td>0.173519</td>\n      <td>NaN</td>\n      <td>NaN</td>\n      <td>NaT</td>\n      <td>None</td>\n      <td>None</td>\n      <td>None</td>\n      <td>NaN</td>\n      <td>NaN</td>\n      <td>None</td>\n      <td>None</td>\n      <td>None</td>\n      <td>None</td>\n      <td>None</td>\n      <td>None</td>\n      <td>(0.131, 0.259]</td>\n      <td>nan</td>\n      <td>NaT</td>\n      <td>nan</td>\n    </tr>\n  </tbody>\n</table>\n<p>659813 rows × 20 columns</p>\n</div>"
     },
     "execution_count": 32,
     "metadata": {},
     "output_type": "execute_result"
    }
   ],
   "source": [
    "df\n",
    "\n",
    "parquet = df[\"SUBS_ID\",'LAST_CHARGE','TOTAL_CHARGE']"
   ],
   "metadata": {
    "collapsed": false,
    "ExecuteTime": {
     "end_time": "2023-09-13T11:54:05.417458700Z",
     "start_time": "2023-09-13T11:54:05.369342300Z"
    }
   },
   "id": "e1b54c8017c9e602"
  },
  {
   "cell_type": "code",
   "execution_count": 22,
   "outputs": [
    {
     "data": {
      "text/plain": "           SUBS_ID  LAST_CHARGE  TOTAL_CHARGE  SUBSCRIBER_ID SUBS_FIRST_ACTIVATION_DATE YEAR_OF_BIRTH  GENDER DEVICE_TYPE_LATEST  SUBS_TOTAL_LIFETIME_CHARGE     SUBS_ID LOC_REGION_NAME LOC_DISTRICT_NAME       LOC_STREET  DEVICE_TYPE DEVICE_BRAND       DEVICE_MODEL SUBS_FIRST_ACTIVATION_DATE_stratify SUBS_TOTAL_LIFETIME_CHARGE_stratify group\n0          59640.0     3.031933    308.758168        59640.0        2000-09-21 09:42:33          1960  Female            Phablet                 1812.466156     59640.0           აჭარა            ბათუმი       BATUMI_VOX      Phablet        Apple  iPhone 13 PRO MAX                 2000-09-21 09:42:33                (1716.12, 17914.939]     0\n1          52010.0     7.483900     29.361490        52010.0        2000-06-13 11:57:35          1972    Male            Phablet                  259.950320     52010.0         თბილისი     ისანი-სამგორი   TSKALK_VAZISUB      Phablet       Xiaomi           Redmi 8A                 2000-06-13 11:57:35                   (152.288, 267.47]     1\n2         216281.0    55.203912     51.806931       216281.0        2005-01-24 12:14:12          1973    Male            Phablet                  422.013433    216281.0         თბილისი    ვაკე-საბურთალო      DIDI_DIGOMI      Phablet       Realme               C21Y                 2005-01-24 12:14:12                   (385.15, 488.536]     0\n3         716636.0    19.130451     47.584191       716636.0        2011-07-18 18:01:47          1979    Male            Phablet                  257.627217    716636.0         თბილისი    ვაკე-საბურთალო  VIL_DIGOMI_SILK      Phablet      Samsung         Galaxy A12                 2011-07-18 18:01:47                   (152.288, 267.47]     0\n4         542352.0    12.111736     88.695005       542352.0        2010-06-21 18:25:16          1960  Female            Phablet                 1062.684200    542352.0    ქვემო ქართლი           რუსთავი    RUSTAVI_HOTEL      Phablet      Samsung         Galaxy A01                 2010-06-21 18:25:16                  (933.541, 1250.42]     0\n...            ...          ...           ...            ...                        ...           ...     ...                ...                         ...         ...             ...               ...              ...          ...          ...                ...                                 ...                                 ...   ...\n659808  24571505.0     1.314398     72.459495     24571505.0        2002-03-19 07:00:00          1949    Male        Basic Phone                  410.529673  24571505.0           აჭარა            ბათუმი  SCHOOL_EURO2000  Basic Phone        Nokia               1202                 2002-03-19 07:00:00                   (385.15, 488.536]     0\n659809  24451955.0    25.089259    155.960000     24451955.0        2010-05-11 22:29:09          1953  Female         Smartphone                  809.157084  24451955.0          კახეთი           ყვარელი          KVARELI   Smartphone        Apple           iPhone 6                 2010-05-11 22:29:09                   (728.57, 933.541]     0\n659810  24492479.0    34.864699      1.727867     24492479.0        2007-11-17 18:59:32          1900    None            Phablet                   74.572901  24492479.0         თბილისი    ვაკე-საბურთალო   SABURTALO_HILL      Phablet       Huawei               Y5 2                 2007-11-17 18:59:32                   (-0.001, 152.288]     1\n659811  24500080.0     4.129711     50.408813     24500080.0        2009-01-22 15:28:33          1979    None            Phablet                  433.038665  24500080.0         თბილისი     ისანი-სამგორი  VARK_KHOMLEL_ST      Phablet       Xiaomi           Redmi 9A                 2009-01-22 15:28:33                   (385.15, 488.536]     1\n659812         NaN     0.173519           NaN            NaN                        NaT          None    None               None                         NaN         NaN            None              None             None         None         None               None                                 NaT                                 nan     1\n\n[659813 rows x 19 columns]",
      "text/html": "<div>\n<style scoped>\n    .dataframe tbody tr th:only-of-type {\n        vertical-align: middle;\n    }\n\n    .dataframe tbody tr th {\n        vertical-align: top;\n    }\n\n    .dataframe thead th {\n        text-align: right;\n    }\n</style>\n<table border=\"1\" class=\"dataframe\">\n  <thead>\n    <tr style=\"text-align: right;\">\n      <th></th>\n      <th>SUBS_ID</th>\n      <th>LAST_CHARGE</th>\n      <th>TOTAL_CHARGE</th>\n      <th>SUBSCRIBER_ID</th>\n      <th>SUBS_FIRST_ACTIVATION_DATE</th>\n      <th>YEAR_OF_BIRTH</th>\n      <th>GENDER</th>\n      <th>DEVICE_TYPE_LATEST</th>\n      <th>SUBS_TOTAL_LIFETIME_CHARGE</th>\n      <th>SUBS_ID</th>\n      <th>LOC_REGION_NAME</th>\n      <th>LOC_DISTRICT_NAME</th>\n      <th>LOC_STREET</th>\n      <th>DEVICE_TYPE</th>\n      <th>DEVICE_BRAND</th>\n      <th>DEVICE_MODEL</th>\n      <th>SUBS_FIRST_ACTIVATION_DATE_stratify</th>\n      <th>SUBS_TOTAL_LIFETIME_CHARGE_stratify</th>\n      <th>group</th>\n    </tr>\n  </thead>\n  <tbody>\n    <tr>\n      <th>0</th>\n      <td>59640.0</td>\n      <td>3.031933</td>\n      <td>308.758168</td>\n      <td>59640.0</td>\n      <td>2000-09-21 09:42:33</td>\n      <td>1960</td>\n      <td>Female</td>\n      <td>Phablet</td>\n      <td>1812.466156</td>\n      <td>59640.0</td>\n      <td>აჭარა</td>\n      <td>ბათუმი</td>\n      <td>BATUMI_VOX</td>\n      <td>Phablet</td>\n      <td>Apple</td>\n      <td>iPhone 13 PRO MAX</td>\n      <td>2000-09-21 09:42:33</td>\n      <td>(1716.12, 17914.939]</td>\n      <td>0</td>\n    </tr>\n    <tr>\n      <th>1</th>\n      <td>52010.0</td>\n      <td>7.483900</td>\n      <td>29.361490</td>\n      <td>52010.0</td>\n      <td>2000-06-13 11:57:35</td>\n      <td>1972</td>\n      <td>Male</td>\n      <td>Phablet</td>\n      <td>259.950320</td>\n      <td>52010.0</td>\n      <td>თბილისი</td>\n      <td>ისანი-სამგორი</td>\n      <td>TSKALK_VAZISUB</td>\n      <td>Phablet</td>\n      <td>Xiaomi</td>\n      <td>Redmi 8A</td>\n      <td>2000-06-13 11:57:35</td>\n      <td>(152.288, 267.47]</td>\n      <td>1</td>\n    </tr>\n    <tr>\n      <th>2</th>\n      <td>216281.0</td>\n      <td>55.203912</td>\n      <td>51.806931</td>\n      <td>216281.0</td>\n      <td>2005-01-24 12:14:12</td>\n      <td>1973</td>\n      <td>Male</td>\n      <td>Phablet</td>\n      <td>422.013433</td>\n      <td>216281.0</td>\n      <td>თბილისი</td>\n      <td>ვაკე-საბურთალო</td>\n      <td>DIDI_DIGOMI</td>\n      <td>Phablet</td>\n      <td>Realme</td>\n      <td>C21Y</td>\n      <td>2005-01-24 12:14:12</td>\n      <td>(385.15, 488.536]</td>\n      <td>0</td>\n    </tr>\n    <tr>\n      <th>3</th>\n      <td>716636.0</td>\n      <td>19.130451</td>\n      <td>47.584191</td>\n      <td>716636.0</td>\n      <td>2011-07-18 18:01:47</td>\n      <td>1979</td>\n      <td>Male</td>\n      <td>Phablet</td>\n      <td>257.627217</td>\n      <td>716636.0</td>\n      <td>თბილისი</td>\n      <td>ვაკე-საბურთალო</td>\n      <td>VIL_DIGOMI_SILK</td>\n      <td>Phablet</td>\n      <td>Samsung</td>\n      <td>Galaxy A12</td>\n      <td>2011-07-18 18:01:47</td>\n      <td>(152.288, 267.47]</td>\n      <td>0</td>\n    </tr>\n    <tr>\n      <th>4</th>\n      <td>542352.0</td>\n      <td>12.111736</td>\n      <td>88.695005</td>\n      <td>542352.0</td>\n      <td>2010-06-21 18:25:16</td>\n      <td>1960</td>\n      <td>Female</td>\n      <td>Phablet</td>\n      <td>1062.684200</td>\n      <td>542352.0</td>\n      <td>ქვემო ქართლი</td>\n      <td>რუსთავი</td>\n      <td>RUSTAVI_HOTEL</td>\n      <td>Phablet</td>\n      <td>Samsung</td>\n      <td>Galaxy A01</td>\n      <td>2010-06-21 18:25:16</td>\n      <td>(933.541, 1250.42]</td>\n      <td>0</td>\n    </tr>\n    <tr>\n      <th>...</th>\n      <td>...</td>\n      <td>...</td>\n      <td>...</td>\n      <td>...</td>\n      <td>...</td>\n      <td>...</td>\n      <td>...</td>\n      <td>...</td>\n      <td>...</td>\n      <td>...</td>\n      <td>...</td>\n      <td>...</td>\n      <td>...</td>\n      <td>...</td>\n      <td>...</td>\n      <td>...</td>\n      <td>...</td>\n      <td>...</td>\n      <td>...</td>\n    </tr>\n    <tr>\n      <th>659808</th>\n      <td>24571505.0</td>\n      <td>1.314398</td>\n      <td>72.459495</td>\n      <td>24571505.0</td>\n      <td>2002-03-19 07:00:00</td>\n      <td>1949</td>\n      <td>Male</td>\n      <td>Basic Phone</td>\n      <td>410.529673</td>\n      <td>24571505.0</td>\n      <td>აჭარა</td>\n      <td>ბათუმი</td>\n      <td>SCHOOL_EURO2000</td>\n      <td>Basic Phone</td>\n      <td>Nokia</td>\n      <td>1202</td>\n      <td>2002-03-19 07:00:00</td>\n      <td>(385.15, 488.536]</td>\n      <td>0</td>\n    </tr>\n    <tr>\n      <th>659809</th>\n      <td>24451955.0</td>\n      <td>25.089259</td>\n      <td>155.960000</td>\n      <td>24451955.0</td>\n      <td>2010-05-11 22:29:09</td>\n      <td>1953</td>\n      <td>Female</td>\n      <td>Smartphone</td>\n      <td>809.157084</td>\n      <td>24451955.0</td>\n      <td>კახეთი</td>\n      <td>ყვარელი</td>\n      <td>KVARELI</td>\n      <td>Smartphone</td>\n      <td>Apple</td>\n      <td>iPhone 6</td>\n      <td>2010-05-11 22:29:09</td>\n      <td>(728.57, 933.541]</td>\n      <td>0</td>\n    </tr>\n    <tr>\n      <th>659810</th>\n      <td>24492479.0</td>\n      <td>34.864699</td>\n      <td>1.727867</td>\n      <td>24492479.0</td>\n      <td>2007-11-17 18:59:32</td>\n      <td>1900</td>\n      <td>None</td>\n      <td>Phablet</td>\n      <td>74.572901</td>\n      <td>24492479.0</td>\n      <td>თბილისი</td>\n      <td>ვაკე-საბურთალო</td>\n      <td>SABURTALO_HILL</td>\n      <td>Phablet</td>\n      <td>Huawei</td>\n      <td>Y5 2</td>\n      <td>2007-11-17 18:59:32</td>\n      <td>(-0.001, 152.288]</td>\n      <td>1</td>\n    </tr>\n    <tr>\n      <th>659811</th>\n      <td>24500080.0</td>\n      <td>4.129711</td>\n      <td>50.408813</td>\n      <td>24500080.0</td>\n      <td>2009-01-22 15:28:33</td>\n      <td>1979</td>\n      <td>None</td>\n      <td>Phablet</td>\n      <td>433.038665</td>\n      <td>24500080.0</td>\n      <td>თბილისი</td>\n      <td>ისანი-სამგორი</td>\n      <td>VARK_KHOMLEL_ST</td>\n      <td>Phablet</td>\n      <td>Xiaomi</td>\n      <td>Redmi 9A</td>\n      <td>2009-01-22 15:28:33</td>\n      <td>(385.15, 488.536]</td>\n      <td>1</td>\n    </tr>\n    <tr>\n      <th>659812</th>\n      <td>NaN</td>\n      <td>0.173519</td>\n      <td>NaN</td>\n      <td>NaN</td>\n      <td>NaT</td>\n      <td>None</td>\n      <td>None</td>\n      <td>None</td>\n      <td>NaN</td>\n      <td>NaN</td>\n      <td>None</td>\n      <td>None</td>\n      <td>None</td>\n      <td>None</td>\n      <td>None</td>\n      <td>None</td>\n      <td>NaT</td>\n      <td>nan</td>\n      <td>1</td>\n    </tr>\n  </tbody>\n</table>\n<p>659813 rows × 19 columns</p>\n</div>"
     },
     "execution_count": 22,
     "metadata": {},
     "output_type": "execute_result"
    }
   ],
   "source": [
    "\"\"\"\n",
    "Basis - Simple Stratified_Sample\n",
    "import BSG stratifier method and use on \n",
    "our dataframe \n",
    "* stratifier_col = \"charge_lifecycle\" - profile attr\n",
    "* n_splits - ? , number of segment same profile\n",
    "* num_variables_default_buckets ?\n",
    "\"\"\"\n",
    "from utils import stratified_sampling as sampling\n",
    "\n",
    "\n",
    "str_sample = (sampling.proportional_stratified_sample\n",
    "    (\n",
    "    df=df,\n",
    "    stratify_cols=[\"LAST_CHARGE\",\"TOTAL_CHARGE\"],\n",
    "    n_splits=2,\n",
    "    num_variables_default_buckets=50\n",
    "))\n",
    "\n",
    "str_sample\n"
   ],
   "metadata": {
    "collapsed": false,
    "ExecuteTime": {
     "end_time": "2023-09-13T11:36:10.842659800Z",
     "start_time": "2023-09-13T11:36:04.217303200Z"
    }
   },
   "id": "b6e0a794cb74d822"
  },
  {
   "cell_type": "code",
   "execution_count": 25,
   "outputs": [],
   "source": [
    "\"\"\"\n",
    "Test Method Stratifier:\n",
    "if the split 10 groups charge_lifecycle average is same \n",
    "* avr charge_lifecycle == 63 \n",
    "\"\"\"\n",
    "res_str_sample = str_sample.groupby(by=\"group\").agg(\n",
    "    {\"LAST_CHARGE\": \"mean\", \"TOTAL_CHARGE\":\"mean\"}\n",
    ")"
   ],
   "metadata": {
    "collapsed": false,
    "ExecuteTime": {
     "end_time": "2023-09-13T11:38:17.026033200Z",
     "start_time": "2023-09-13T11:38:16.999145600Z"
    }
   },
   "id": "90fd7977966f162f"
  },
  {
   "cell_type": "code",
   "execution_count": 26,
   "outputs": [
    {
     "data": {
      "text/plain": "       LAST_CHARGE  TOTAL_CHARGE\ngroup                           \n0        16.327611    104.818087\n1        16.325337    104.798002",
      "text/html": "<div>\n<style scoped>\n    .dataframe tbody tr th:only-of-type {\n        vertical-align: middle;\n    }\n\n    .dataframe tbody tr th {\n        vertical-align: top;\n    }\n\n    .dataframe thead th {\n        text-align: right;\n    }\n</style>\n<table border=\"1\" class=\"dataframe\">\n  <thead>\n    <tr style=\"text-align: right;\">\n      <th></th>\n      <th>LAST_CHARGE</th>\n      <th>TOTAL_CHARGE</th>\n    </tr>\n    <tr>\n      <th>group</th>\n      <th></th>\n      <th></th>\n    </tr>\n  </thead>\n  <tbody>\n    <tr>\n      <th>0</th>\n      <td>16.327611</td>\n      <td>104.818087</td>\n    </tr>\n    <tr>\n      <th>1</th>\n      <td>16.325337</td>\n      <td>104.798002</td>\n    </tr>\n  </tbody>\n</table>\n</div>"
     },
     "execution_count": 26,
     "metadata": {},
     "output_type": "execute_result"
    }
   ],
   "source": [
    "res_str_sample"
   ],
   "metadata": {
    "collapsed": false,
    "ExecuteTime": {
     "end_time": "2023-09-13T11:38:21.850124100Z",
     "start_time": "2023-09-13T11:38:21.829750800Z"
    }
   },
   "id": "edb140d64afacf5b"
  },
  {
   "cell_type": "code",
   "execution_count": 27,
   "outputs": [
    {
     "data": {
      "text/plain": "                          LAST_CHARGE  TOTAL_CHARGE\nLOC_REGION_NAME                                    \nაჭარა                       15.454186    105.313383\nგურია                       17.425147     83.159754\nთბილისი                     15.478569    122.874541\nიმერეთი                     17.449784     86.990402\nკახეთი                      17.185706     86.574185\nმცხეთა-მთიანეთი             16.557754    107.429117\nრაჭა - ქვემო სვანეთი        17.651107     95.572717\nსამეგრელო - ზემო სვანეთი    18.369801     83.734568\nსამცხე-ჯავახეთი             18.583213     87.562944\nქვემო ქართლი                17.318353     91.694123\nშიდა ქართლი                 16.842031     86.478115",
      "text/html": "<div>\n<style scoped>\n    .dataframe tbody tr th:only-of-type {\n        vertical-align: middle;\n    }\n\n    .dataframe tbody tr th {\n        vertical-align: top;\n    }\n\n    .dataframe thead th {\n        text-align: right;\n    }\n</style>\n<table border=\"1\" class=\"dataframe\">\n  <thead>\n    <tr style=\"text-align: right;\">\n      <th></th>\n      <th>LAST_CHARGE</th>\n      <th>TOTAL_CHARGE</th>\n    </tr>\n    <tr>\n      <th>LOC_REGION_NAME</th>\n      <th></th>\n      <th></th>\n    </tr>\n  </thead>\n  <tbody>\n    <tr>\n      <th>აჭარა</th>\n      <td>15.454186</td>\n      <td>105.313383</td>\n    </tr>\n    <tr>\n      <th>გურია</th>\n      <td>17.425147</td>\n      <td>83.159754</td>\n    </tr>\n    <tr>\n      <th>თბილისი</th>\n      <td>15.478569</td>\n      <td>122.874541</td>\n    </tr>\n    <tr>\n      <th>იმერეთი</th>\n      <td>17.449784</td>\n      <td>86.990402</td>\n    </tr>\n    <tr>\n      <th>კახეთი</th>\n      <td>17.185706</td>\n      <td>86.574185</td>\n    </tr>\n    <tr>\n      <th>მცხეთა-მთიანეთი</th>\n      <td>16.557754</td>\n      <td>107.429117</td>\n    </tr>\n    <tr>\n      <th>რაჭა - ქვემო სვანეთი</th>\n      <td>17.651107</td>\n      <td>95.572717</td>\n    </tr>\n    <tr>\n      <th>სამეგრელო - ზემო სვანეთი</th>\n      <td>18.369801</td>\n      <td>83.734568</td>\n    </tr>\n    <tr>\n      <th>სამცხე-ჯავახეთი</th>\n      <td>18.583213</td>\n      <td>87.562944</td>\n    </tr>\n    <tr>\n      <th>ქვემო ქართლი</th>\n      <td>17.318353</td>\n      <td>91.694123</td>\n    </tr>\n    <tr>\n      <th>შიდა ქართლი</th>\n      <td>16.842031</td>\n      <td>86.478115</td>\n    </tr>\n  </tbody>\n</table>\n</div>"
     },
     "execution_count": 27,
     "metadata": {},
     "output_type": "execute_result"
    }
   ],
   "source": [
    "df.groupby(by=\"LOC_REGION_NAME\").agg(\n",
    "    {'LAST_CHARGE':'mean','TOTAL_CHARGE':'mean'}\n",
    ")"
   ],
   "metadata": {
    "collapsed": false,
    "ExecuteTime": {
     "end_time": "2023-09-13T11:44:03.998879200Z",
     "start_time": "2023-09-13T11:44:03.974923700Z"
    }
   },
   "id": "1b423f016be08bff"
  },
  {
   "cell_type": "code",
   "execution_count": 28,
   "outputs": [],
   "source": [
    "group_a = df[df['LOC_REGION_NAME'] == 'აჭარა']['LAST_CHARGE']\n",
    "group_b = df[df['LOC_REGION_NAME'] == 'იმერეთი']['LAST_CHARGE']\n"
   ],
   "metadata": {
    "collapsed": false,
    "ExecuteTime": {
     "end_time": "2023-09-13T11:50:10.706203200Z",
     "start_time": "2023-09-13T11:50:10.490927700Z"
    }
   },
   "id": "c89a564b999de655"
  },
  {
   "cell_type": "code",
   "execution_count": 30,
   "outputs": [],
   "source": [
    "from scipy import stats\n",
    "t_statistic, p_value = stats.ttest_ind(group_a, group_b)\n"
   ],
   "metadata": {
    "collapsed": false,
    "ExecuteTime": {
     "end_time": "2023-09-13T11:50:45.321987Z",
     "start_time": "2023-09-13T11:50:42.107814900Z"
    }
   },
   "id": "7f1a1ffda3f59ba8"
  },
  {
   "cell_type": "code",
   "execution_count": 31,
   "outputs": [
    {
     "name": "stdout",
     "output_type": "stream",
     "text": [
      "T-Statistic: -23.15957608511025\n",
      "P-Value: 1.704903842093835e-118\n",
      "Reject the null hypothesis: There is a significant difference between groups A and B.\n"
     ]
    }
   ],
   "source": [
    "# Print the results\n",
    "print(f'T-Statistic: {t_statistic}')\n",
    "print(f'P-Value: {p_value}')\n",
    "\n",
    "# Interpret the results based on the p-value\n",
    "alpha = 0.05  # Set your significance level\n",
    "if p_value < alpha:\n",
    "    print(\"Reject the null hypothesis: There is a significant difference between groups A and B.\")\n",
    "else:\n",
    "    print(\"Fail to reject the null hypothesis: There is no significant difference between groups A and B.\")"
   ],
   "metadata": {
    "collapsed": false,
    "ExecuteTime": {
     "end_time": "2023-09-13T11:51:13.387956100Z",
     "start_time": "2023-09-13T11:51:13.332227500Z"
    }
   },
   "id": "94d46bf82140e603"
  },
  {
   "cell_type": "code",
   "execution_count": null,
   "outputs": [],
   "source": [],
   "metadata": {
    "collapsed": false
   },
   "id": "cec8bb9731310d38"
  }
 ],
 "metadata": {
  "kernelspec": {
   "display_name": "Python 3",
   "language": "python",
   "name": "python3"
  },
  "language_info": {
   "codemirror_mode": {
    "name": "ipython",
    "version": 2
   },
   "file_extension": ".py",
   "mimetype": "text/x-python",
   "name": "python",
   "nbconvert_exporter": "python",
   "pygments_lexer": "ipython2",
   "version": "2.7.6"
  }
 },
 "nbformat": 4,
 "nbformat_minor": 5
}
