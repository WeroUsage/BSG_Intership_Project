{
 "cells": [
  {
   "cell_type": "code",
   "execution_count": null,
   "id": "initial_id",
   "metadata": {
    "collapsed": true
   },
   "outputs": [],
   "source": [
    "# from SELECT import extract_table\n",
    "# \n",
    "# extract_table(\"segments_static_cb.sql\")\n"
   ]
  },
  {
   "cell_type": "code",
   "execution_count": 1,
   "outputs": [
    {
     "data": {
      "text/plain": "                 SUBS_ID        ACTIVATION_DATE STATUS_NAME  \\\n0            1  391431.0   3/27/2009 2:06:14 PM      Active   \n1            2   88850.0  12/12/2000 4:37:17 PM      Active   \n2            3   33191.0   6/18/1997 9:19:35 AM     Partial   \n3            4   40394.0   7/22/1997 8:14:14 PM      Active   \n4            5  294965.0   6/11/2007 1:36:30 PM      Active   \n...        ...       ...                    ...         ...   \n130194  130195       NaN                    NaN         NaN   \n130195  130196       NaN                    NaN         NaN   \n130196  130197       NaN                    NaN         NaN   \n130197  130198       NaN                    NaN         NaN   \n130198  130199       NaN                    NaN         NaN   \n\n                 STATUS_DATE         STATUS_DESC_NAME LOC_DISTRICT_NAME  \\\n0       5/25/2023 2:00:44 PM  Partial by credit check     ისანი-სამგორი   \n1        7/5/2023 1:17:31 PM  Partial by credit check   დიდუბე-ჩუღურეთი   \n2        9/4/2023 1:54:43 PM  Partial by credit check     ძველი თბილისი   \n3       7/10/2023 2:26:37 PM          Partial by debt    ვაკე-საბურთალო   \n4        1/1/2023 3:27:11 PM  Partial by credit check   დიდუბე-ჩუღურეთი   \n...                      ...                      ...               ...   \n130194                   NaN                      NaN               NaN   \n130195                   NaN                      NaN               NaN   \n130196                   NaN                      NaN               NaN   \n130197                   NaN                      NaN               NaN   \n130198                   NaN                      NaN               NaN   \n\n       LOC_REGION_NAME DEVICE_CAT    DEVICE_TYPE    DEVICE_MODEL   BIRTH_DAY  \\\n0              თბილისი          M        Phablet  Redmi Note 10s    2/8/1980   \n1              თბილისი          M        Phablet   Galaxy S21 5G   6/11/1971   \n2              თბილისი          M        Phablet    Note 10 Lite   5/10/1942   \n3              თბილისი          M  Feature Phone        GT-C3752  10/13/1961   \n4              თბილისი          M     Smartphone       iPhone 5S   11/5/1978   \n...                ...        ...            ...             ...         ...   \n130194             NaN        NaN            NaN             NaN         NaN   \n130195             NaN        NaN            NaN             NaN         NaN   \n130196             NaN        NaN            NaN             NaN         NaN   \n130197             NaN        NaN            NaN             NaN         NaN   \n130198             NaN        NaN            NaN             NaN         NaN   \n\n       GENDER   SUBS_ID.1       LAST_REFILL_DATE  DAYS_PASSED_LAST_REFILL  \\\n0        Male      391431   6/21/2023 8:01:07 PM                83.860162   \n1        Male       88850    7/5/2023 1:17:28 PM                70.140475   \n2        Male       33191    7/3/2023 5:23:39 PM                71.969514   \n3        Male       40394   7/10/2023 2:26:33 PM                65.092500   \n4        Male      294965  6/16/2023 12:16:20 PM                89.182928   \n...       ...         ...                    ...                      ...   \n130194    NaN    24109606    7/8/2023 1:56:22 AM                67.613461   \n130195    NaN  1779984853    7/6/2023 7:52:18 PM                68.866285   \n130196    NaN    26812944   7/12/2023 6:51:38 PM                62.908414   \n130197    NaN    28805857  6/29/2023 12:24:44 PM                76.177095   \n130198    NaN  1767215811   7/13/2023 9:36:38 AM                62.293831   \n\n              LAST_TOPUP_DATE  DAYS_PASSED_LAST_TOPUP  AMOUNT  \\\n0                         NaN                     NaN     NaN   \n1         7/5/2023 1:14:55 PM               70.142245     8.0   \n2       6/24/2023 12:03:54 PM               81.191563    11.0   \n3                         NaN                     NaN     NaN   \n4                         NaN                     NaN     NaN   \n...                       ...                     ...     ...   \n130194                    NaN                     NaN     NaN   \n130195    7/6/2023 7:52:23 PM               68.866227    10.0   \n130196                    NaN                     NaN     NaN   \n130197                    NaN                     NaN     NaN   \n130198                    NaN                     NaN     NaN   \n\n                     TOPUP_OFFER_NAME  \n0                                 NaN  \n1         METI S Plus one-time top-up  \n2        *135# 4000 MB - 11 GEL topup  \n3                                 NaN  \n4                                 NaN  \n...                               ...  \n130194                            NaN  \n130195  METI M 10 GEL_One_time top-up  \n130196                            NaN  \n130197                            NaN  \n130198                            NaN  \n\n[130199 rows x 20 columns]",
      "text/html": "<div>\n<style scoped>\n    .dataframe tbody tr th:only-of-type {\n        vertical-align: middle;\n    }\n\n    .dataframe tbody tr th {\n        vertical-align: top;\n    }\n\n    .dataframe thead th {\n        text-align: right;\n    }\n</style>\n<table border=\"1\" class=\"dataframe\">\n  <thead>\n    <tr style=\"text-align: right;\">\n      <th></th>\n      <th></th>\n      <th>SUBS_ID</th>\n      <th>ACTIVATION_DATE</th>\n      <th>STATUS_NAME</th>\n      <th>STATUS_DATE</th>\n      <th>STATUS_DESC_NAME</th>\n      <th>LOC_DISTRICT_NAME</th>\n      <th>LOC_REGION_NAME</th>\n      <th>DEVICE_CAT</th>\n      <th>DEVICE_TYPE</th>\n      <th>DEVICE_MODEL</th>\n      <th>BIRTH_DAY</th>\n      <th>GENDER</th>\n      <th>SUBS_ID.1</th>\n      <th>LAST_REFILL_DATE</th>\n      <th>DAYS_PASSED_LAST_REFILL</th>\n      <th>LAST_TOPUP_DATE</th>\n      <th>DAYS_PASSED_LAST_TOPUP</th>\n      <th>AMOUNT</th>\n      <th>TOPUP_OFFER_NAME</th>\n    </tr>\n  </thead>\n  <tbody>\n    <tr>\n      <th>0</th>\n      <td>1</td>\n      <td>391431.0</td>\n      <td>3/27/2009 2:06:14 PM</td>\n      <td>Active</td>\n      <td>5/25/2023 2:00:44 PM</td>\n      <td>Partial by credit check</td>\n      <td>ისანი-სამგორი</td>\n      <td>თბილისი</td>\n      <td>M</td>\n      <td>Phablet</td>\n      <td>Redmi Note 10s</td>\n      <td>2/8/1980</td>\n      <td>Male</td>\n      <td>391431</td>\n      <td>6/21/2023 8:01:07 PM</td>\n      <td>83.860162</td>\n      <td>NaN</td>\n      <td>NaN</td>\n      <td>NaN</td>\n      <td>NaN</td>\n    </tr>\n    <tr>\n      <th>1</th>\n      <td>2</td>\n      <td>88850.0</td>\n      <td>12/12/2000 4:37:17 PM</td>\n      <td>Active</td>\n      <td>7/5/2023 1:17:31 PM</td>\n      <td>Partial by credit check</td>\n      <td>დიდუბე-ჩუღურეთი</td>\n      <td>თბილისი</td>\n      <td>M</td>\n      <td>Phablet</td>\n      <td>Galaxy S21 5G</td>\n      <td>6/11/1971</td>\n      <td>Male</td>\n      <td>88850</td>\n      <td>7/5/2023 1:17:28 PM</td>\n      <td>70.140475</td>\n      <td>7/5/2023 1:14:55 PM</td>\n      <td>70.142245</td>\n      <td>8.0</td>\n      <td>METI S Plus one-time top-up</td>\n    </tr>\n    <tr>\n      <th>2</th>\n      <td>3</td>\n      <td>33191.0</td>\n      <td>6/18/1997 9:19:35 AM</td>\n      <td>Partial</td>\n      <td>9/4/2023 1:54:43 PM</td>\n      <td>Partial by credit check</td>\n      <td>ძველი თბილისი</td>\n      <td>თბილისი</td>\n      <td>M</td>\n      <td>Phablet</td>\n      <td>Note 10 Lite</td>\n      <td>5/10/1942</td>\n      <td>Male</td>\n      <td>33191</td>\n      <td>7/3/2023 5:23:39 PM</td>\n      <td>71.969514</td>\n      <td>6/24/2023 12:03:54 PM</td>\n      <td>81.191563</td>\n      <td>11.0</td>\n      <td>*135# 4000 MB - 11 GEL topup</td>\n    </tr>\n    <tr>\n      <th>3</th>\n      <td>4</td>\n      <td>40394.0</td>\n      <td>7/22/1997 8:14:14 PM</td>\n      <td>Active</td>\n      <td>7/10/2023 2:26:37 PM</td>\n      <td>Partial by debt</td>\n      <td>ვაკე-საბურთალო</td>\n      <td>თბილისი</td>\n      <td>M</td>\n      <td>Feature Phone</td>\n      <td>GT-C3752</td>\n      <td>10/13/1961</td>\n      <td>Male</td>\n      <td>40394</td>\n      <td>7/10/2023 2:26:33 PM</td>\n      <td>65.092500</td>\n      <td>NaN</td>\n      <td>NaN</td>\n      <td>NaN</td>\n      <td>NaN</td>\n    </tr>\n    <tr>\n      <th>4</th>\n      <td>5</td>\n      <td>294965.0</td>\n      <td>6/11/2007 1:36:30 PM</td>\n      <td>Active</td>\n      <td>1/1/2023 3:27:11 PM</td>\n      <td>Partial by credit check</td>\n      <td>დიდუბე-ჩუღურეთი</td>\n      <td>თბილისი</td>\n      <td>M</td>\n      <td>Smartphone</td>\n      <td>iPhone 5S</td>\n      <td>11/5/1978</td>\n      <td>Male</td>\n      <td>294965</td>\n      <td>6/16/2023 12:16:20 PM</td>\n      <td>89.182928</td>\n      <td>NaN</td>\n      <td>NaN</td>\n      <td>NaN</td>\n      <td>NaN</td>\n    </tr>\n    <tr>\n      <th>...</th>\n      <td>...</td>\n      <td>...</td>\n      <td>...</td>\n      <td>...</td>\n      <td>...</td>\n      <td>...</td>\n      <td>...</td>\n      <td>...</td>\n      <td>...</td>\n      <td>...</td>\n      <td>...</td>\n      <td>...</td>\n      <td>...</td>\n      <td>...</td>\n      <td>...</td>\n      <td>...</td>\n      <td>...</td>\n      <td>...</td>\n      <td>...</td>\n      <td>...</td>\n    </tr>\n    <tr>\n      <th>130194</th>\n      <td>130195</td>\n      <td>NaN</td>\n      <td>NaN</td>\n      <td>NaN</td>\n      <td>NaN</td>\n      <td>NaN</td>\n      <td>NaN</td>\n      <td>NaN</td>\n      <td>NaN</td>\n      <td>NaN</td>\n      <td>NaN</td>\n      <td>NaN</td>\n      <td>NaN</td>\n      <td>24109606</td>\n      <td>7/8/2023 1:56:22 AM</td>\n      <td>67.613461</td>\n      <td>NaN</td>\n      <td>NaN</td>\n      <td>NaN</td>\n      <td>NaN</td>\n    </tr>\n    <tr>\n      <th>130195</th>\n      <td>130196</td>\n      <td>NaN</td>\n      <td>NaN</td>\n      <td>NaN</td>\n      <td>NaN</td>\n      <td>NaN</td>\n      <td>NaN</td>\n      <td>NaN</td>\n      <td>NaN</td>\n      <td>NaN</td>\n      <td>NaN</td>\n      <td>NaN</td>\n      <td>NaN</td>\n      <td>1779984853</td>\n      <td>7/6/2023 7:52:18 PM</td>\n      <td>68.866285</td>\n      <td>7/6/2023 7:52:23 PM</td>\n      <td>68.866227</td>\n      <td>10.0</td>\n      <td>METI M 10 GEL_One_time top-up</td>\n    </tr>\n    <tr>\n      <th>130196</th>\n      <td>130197</td>\n      <td>NaN</td>\n      <td>NaN</td>\n      <td>NaN</td>\n      <td>NaN</td>\n      <td>NaN</td>\n      <td>NaN</td>\n      <td>NaN</td>\n      <td>NaN</td>\n      <td>NaN</td>\n      <td>NaN</td>\n      <td>NaN</td>\n      <td>NaN</td>\n      <td>26812944</td>\n      <td>7/12/2023 6:51:38 PM</td>\n      <td>62.908414</td>\n      <td>NaN</td>\n      <td>NaN</td>\n      <td>NaN</td>\n      <td>NaN</td>\n    </tr>\n    <tr>\n      <th>130197</th>\n      <td>130198</td>\n      <td>NaN</td>\n      <td>NaN</td>\n      <td>NaN</td>\n      <td>NaN</td>\n      <td>NaN</td>\n      <td>NaN</td>\n      <td>NaN</td>\n      <td>NaN</td>\n      <td>NaN</td>\n      <td>NaN</td>\n      <td>NaN</td>\n      <td>NaN</td>\n      <td>28805857</td>\n      <td>6/29/2023 12:24:44 PM</td>\n      <td>76.177095</td>\n      <td>NaN</td>\n      <td>NaN</td>\n      <td>NaN</td>\n      <td>NaN</td>\n    </tr>\n    <tr>\n      <th>130198</th>\n      <td>130199</td>\n      <td>NaN</td>\n      <td>NaN</td>\n      <td>NaN</td>\n      <td>NaN</td>\n      <td>NaN</td>\n      <td>NaN</td>\n      <td>NaN</td>\n      <td>NaN</td>\n      <td>NaN</td>\n      <td>NaN</td>\n      <td>NaN</td>\n      <td>NaN</td>\n      <td>1767215811</td>\n      <td>7/13/2023 9:36:38 AM</td>\n      <td>62.293831</td>\n      <td>NaN</td>\n      <td>NaN</td>\n      <td>NaN</td>\n      <td>NaN</td>\n    </tr>\n  </tbody>\n</table>\n<p>130199 rows × 20 columns</p>\n</div>"
     },
     "execution_count": 1,
     "metadata": {},
     "output_type": "execute_result"
    }
   ],
   "source": [
    "import pandas as pd\n",
    "\n",
    "df = pd.read_csv(\"cb_static_data.csv\")\n",
    "\n",
    "df"
   ],
   "metadata": {
    "collapsed": false,
    "ExecuteTime": {
     "end_time": "2023-09-13T13:44:46.468249100Z",
     "start_time": "2023-09-13T13:44:45.178287100Z"
    }
   },
   "id": "de02a24eb09221ca"
  },
  {
   "cell_type": "code",
   "execution_count": 4,
   "outputs": [
    {
     "name": "stdout",
     "output_type": "stream",
     "text": [
      "<class 'pandas.core.frame.DataFrame'>\n",
      "RangeIndex: 130199 entries, 0 to 130198\n",
      "Data columns (total 20 columns):\n",
      " #   Column                   Non-Null Count   Dtype  \n",
      "---  ------                   --------------   -----  \n",
      " 0                            130199 non-null  int64  \n",
      " 1   SUBS_ID                  127760 non-null  float64\n",
      " 2   ACTIVATION_DATE          127760 non-null  object \n",
      " 3   STATUS_NAME              127760 non-null  object \n",
      " 4   STATUS_DATE              127760 non-null  object \n",
      " 5   STATUS_DESC_NAME         126088 non-null  object \n",
      " 6   LOC_DISTRICT_NAME        126727 non-null  object \n",
      " 7   LOC_REGION_NAME          126727 non-null  object \n",
      " 8   DEVICE_CAT               127760 non-null  object \n",
      " 9   DEVICE_TYPE              126347 non-null  object \n",
      " 10  DEVICE_MODEL             126347 non-null  object \n",
      " 11  BIRTH_DAY                124906 non-null  object \n",
      " 12  GENDER                   105940 non-null  object \n",
      " 13  SUBS_ID.1                130199 non-null  int64  \n",
      " 14  LAST_REFILL_DATE         130199 non-null  object \n",
      " 15  DAYS_PASSED_LAST_REFILL  130199 non-null  float64\n",
      " 16  LAST_TOPUP_DATE          29455 non-null   object \n",
      " 17  DAYS_PASSED_LAST_TOPUP   29455 non-null   float64\n",
      " 18  AMOUNT                   29455 non-null   float64\n",
      " 19  TOPUP_OFFER_NAME         29443 non-null   object \n",
      "dtypes: float64(4), int64(2), object(14)\n",
      "memory usage: 19.9+ MB\n"
     ]
    }
   ],
   "source": [
    "df.info()"
   ],
   "metadata": {
    "collapsed": false,
    "ExecuteTime": {
     "end_time": "2023-09-13T13:48:00.697951100Z",
     "start_time": "2023-09-13T13:48:00.615523200Z"
    }
   },
   "id": "90aacc1f4654cd4e"
  },
  {
   "cell_type": "code",
   "execution_count": 2,
   "outputs": [
    {
     "data": {
      "text/plain": "             SUBS_ID\nSTATUS_NAME         \nActive         62009\nPartial        65751",
      "text/html": "<div>\n<style scoped>\n    .dataframe tbody tr th:only-of-type {\n        vertical-align: middle;\n    }\n\n    .dataframe tbody tr th {\n        vertical-align: top;\n    }\n\n    .dataframe thead th {\n        text-align: right;\n    }\n</style>\n<table border=\"1\" class=\"dataframe\">\n  <thead>\n    <tr style=\"text-align: right;\">\n      <th></th>\n      <th>SUBS_ID</th>\n    </tr>\n    <tr>\n      <th>STATUS_NAME</th>\n      <th></th>\n    </tr>\n  </thead>\n  <tbody>\n    <tr>\n      <th>Active</th>\n      <td>62009</td>\n    </tr>\n    <tr>\n      <th>Partial</th>\n      <td>65751</td>\n    </tr>\n  </tbody>\n</table>\n</div>"
     },
     "execution_count": 2,
     "metadata": {},
     "output_type": "execute_result"
    }
   ],
   "source": [
    "df.groupby(by=\"STATUS_NAME\").aggregate({\"SUBS_ID\":\"count\"})"
   ],
   "metadata": {
    "collapsed": false,
    "ExecuteTime": {
     "end_time": "2023-09-13T13:45:56.220112600Z",
     "start_time": "2023-09-13T13:45:56.175205800Z"
    }
   },
   "id": "257577d75cf5655d"
  },
  {
   "cell_type": "code",
   "execution_count": 6,
   "outputs": [
    {
     "data": {
      "text/plain": "                           SUBS_ID\nDEVICE_TYPE                       \nBasic Phone                   7566\nFeature Phone                 7652\nIoT Device                      36\nMobile broadband PCI card      531\nPhablet                      88229\nRouter                         488\nSmartphone                   20771\nTablet                         630\nUSB Modem                      199\nWearable                       245",
      "text/html": "<div>\n<style scoped>\n    .dataframe tbody tr th:only-of-type {\n        vertical-align: middle;\n    }\n\n    .dataframe tbody tr th {\n        vertical-align: top;\n    }\n\n    .dataframe thead th {\n        text-align: right;\n    }\n</style>\n<table border=\"1\" class=\"dataframe\">\n  <thead>\n    <tr style=\"text-align: right;\">\n      <th></th>\n      <th>SUBS_ID</th>\n    </tr>\n    <tr>\n      <th>DEVICE_TYPE</th>\n      <th></th>\n    </tr>\n  </thead>\n  <tbody>\n    <tr>\n      <th>Basic Phone</th>\n      <td>7566</td>\n    </tr>\n    <tr>\n      <th>Feature Phone</th>\n      <td>7652</td>\n    </tr>\n    <tr>\n      <th>IoT Device</th>\n      <td>36</td>\n    </tr>\n    <tr>\n      <th>Mobile broadband PCI card</th>\n      <td>531</td>\n    </tr>\n    <tr>\n      <th>Phablet</th>\n      <td>88229</td>\n    </tr>\n    <tr>\n      <th>Router</th>\n      <td>488</td>\n    </tr>\n    <tr>\n      <th>Smartphone</th>\n      <td>20771</td>\n    </tr>\n    <tr>\n      <th>Tablet</th>\n      <td>630</td>\n    </tr>\n    <tr>\n      <th>USB Modem</th>\n      <td>199</td>\n    </tr>\n    <tr>\n      <th>Wearable</th>\n      <td>245</td>\n    </tr>\n  </tbody>\n</table>\n</div>"
     },
     "execution_count": 6,
     "metadata": {},
     "output_type": "execute_result"
    }
   ],
   "source": [
    "df.groupby(by=\"DEVICE_TYPE\").aggregate({\"SUBS_ID\":\"count\"})"
   ],
   "metadata": {
    "collapsed": false,
    "ExecuteTime": {
     "end_time": "2023-09-13T13:58:11.357705700Z",
     "start_time": "2023-09-13T13:58:11.331283500Z"
    }
   },
   "id": "3387d2ab875b52e8"
  },
  {
   "cell_type": "code",
   "execution_count": 5,
   "outputs": [
    {
     "data": {
      "text/plain": "STATUS_DESC_NAME\nPartial by credit check    65622\nForced by no refil            87\nPartial by no refil           34\nPartial by debt                6\nPorted force                   1\nVoluntary block                1\nName: count, dtype: int64"
     },
     "execution_count": 5,
     "metadata": {},
     "output_type": "execute_result"
    }
   ],
   "source": [
    "partial = df [df[\"STATUS_NAME\"]==\"Partial\"] \n",
    "\n",
    "partial[\"STATUS_DESC_NAME\"].value_counts()"
   ],
   "metadata": {
    "collapsed": false,
    "ExecuteTime": {
     "end_time": "2023-09-13T13:48:33.210217Z",
     "start_time": "2023-09-13T13:48:33.170971500Z"
    }
   },
   "id": "6155bc2bee3d7983"
  },
  {
   "cell_type": "code",
   "execution_count": null,
   "outputs": [],
   "source": [],
   "metadata": {
    "collapsed": false
   },
   "id": "c2d7fc442789dc4c"
  },
  {
   "cell_type": "code",
   "execution_count": null,
   "outputs": [],
   "source": [],
   "metadata": {
    "collapsed": false
   },
   "id": "edb6d3c258ac9b4e"
  }
 ],
 "metadata": {
  "kernelspec": {
   "display_name": "Python 3",
   "language": "python",
   "name": "python3"
  },
  "language_info": {
   "codemirror_mode": {
    "name": "ipython",
    "version": 2
   },
   "file_extension": ".py",
   "mimetype": "text/x-python",
   "name": "python",
   "nbconvert_exporter": "python",
   "pygments_lexer": "ipython2",
   "version": "2.7.6"
  }
 },
 "nbformat": 4,
 "nbformat_minor": 5
}
